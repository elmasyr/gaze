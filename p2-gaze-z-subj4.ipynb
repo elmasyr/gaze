{
 "cells": [
  {
   "cell_type": "markdown",
   "metadata": {},
   "source": [
    "# XML gaze data to pandas data and figures"
   ]
  },
  {
   "cell_type": "code",
   "execution_count": 1,
   "metadata": {
    "collapsed": true
   },
   "outputs": [],
   "source": [
    "#additional helpful source:\n",
    "#http://docs.python-guide.org/en/latest/scenarios/xml/\n",
    "\n",
    "import xmltodict\n",
    "import pandas as pd\n",
    "import time\n",
    "import glob"
   ]
  },
  {
   "cell_type": "code",
   "execution_count": 2,
   "metadata": {
    "collapsed": true
   },
   "outputs": [],
   "source": [
    "pid = 4"
   ]
  },
  {
   "cell_type": "code",
   "execution_count": 3,
   "metadata": {
    "collapsed": true
   },
   "outputs": [],
   "source": [
    "# get filenames\n",
    "filelist = [fil for fil in glob.glob('../../ETRAdata/FixedETRAdata/*.xml')]\n",
    "filepairs = [(i, k) for i,k in zip(filelist[0::2], filelist[1::2])]"
   ]
  },
  {
   "cell_type": "code",
   "execution_count": 4,
   "metadata": {},
   "outputs": [
    {
     "data": {
      "text/plain": [
       "('../../ETRAdata/FixedETRAdata\\\\data_1_24_2018_10_48_56_AM.xml',\n",
       " '../../ETRAdata/FixedETRAdata\\\\data_1_24_2018_10_55_00_AM.xml')"
      ]
     },
     "execution_count": 4,
     "metadata": {},
     "output_type": "execute_result"
    }
   ],
   "source": [
    "filepairs[pid-1]"
   ]
  },
  {
   "cell_type": "code",
   "execution_count": 5,
   "metadata": {},
   "outputs": [
    {
     "data": {
      "text/plain": [
       "'../../ETRAdata/FixedETRAdata\\\\data_1_24_2018_10_48_56_AM.xml'"
      ]
     },
     "execution_count": 5,
     "metadata": {},
     "output_type": "execute_result"
    }
   ],
   "source": [
    "filepairs[pid-1][0]"
   ]
  },
  {
   "cell_type": "markdown",
   "metadata": {},
   "source": [
    "## Functions"
   ]
  },
  {
   "cell_type": "markdown",
   "metadata": {},
   "source": [
    "### Import XML to dict"
   ]
  },
  {
   "cell_type": "code",
   "execution_count": 6,
   "metadata": {
    "collapsed": true
   },
   "outputs": [],
   "source": [
    "def xml_to_dict(filepath):\n",
    "    with open(filepath) as fd:\n",
    "        myxml = xmltodict.parse(fd.read())\n",
    "    \n",
    "    return myxml"
   ]
  },
  {
   "cell_type": "markdown",
   "metadata": {},
   "source": [
    "### Dict to pandas"
   ]
  },
  {
   "cell_type": "code",
   "execution_count": 7,
   "metadata": {
    "collapsed": true
   },
   "outputs": [],
   "source": [
    "'''Read attributes to pandas format'''\n",
    "def read_to_pandas(myxml, session):\n",
    "   \n",
    "\n",
    "    hx = [i['@GazePointUnity'][1:-2].split(\",\")[0] for i in myxml['Data']['GazePointCombined']]\n",
    "    hy = [i['@GazePointUnity'][1:-2].split(\",\")[1] for i in myxml['Data']['GazePointCombined']]\n",
    "    hz = [i['@GazePointUnity'][1:-2].split(\",\")[2] for i in myxml['Data']['GazePointCombined']]\n",
    "    hs = [i['@stage'] for i in myxml['Data']['StageType']] \n",
    "    ht = [i['@type'] for i in myxml['Data']['StageType']] \n",
    "    hse = [session for i in myxml['Data']['StageType']]\n",
    "\n",
    "    mylist = zip (hx, hy, hz, hs, ht, hse)\n",
    "    \n",
    "    return pd.DataFrame(mylist, columns=['gpu_x','gpu_y','gpu_z','stage','type', 'session'])\n",
    "    "
   ]
  },
  {
   "cell_type": "markdown",
   "metadata": {},
   "source": [
    "## Define and read two XML files to one pandas dataframe"
   ]
  },
  {
   "cell_type": "code",
   "execution_count": 8,
   "metadata": {},
   "outputs": [
    {
     "name": "stdout",
     "output_type": "stream",
     "text": [
      "22.5769999027  seconds\n"
     ]
    }
   ],
   "source": [
    "# Define paths\n",
    "filea = filepairs[pid-1][0]\n",
    "fileb = filepairs[pid-1][1]\n",
    "\n",
    "start = time.time() # start timer\n",
    "\n",
    "dfa = read_to_pandas(xml_to_dict(filea), 1) #read file a\n",
    "dfb = read_to_pandas(xml_to_dict(fileb), 2) #read file a\n",
    "df = pd.concat([dfa, dfb]).reset_index(drop=True) #combine dataframes\n",
    "\n",
    "end = time.time()\n",
    "print(end - start), ' seconds'"
   ]
  },
  {
   "cell_type": "markdown",
   "metadata": {},
   "source": [
    "#### Checks"
   ]
  },
  {
   "cell_type": "code",
   "execution_count": 9,
   "metadata": {},
   "outputs": [
    {
     "data": {
      "text/html": [
       "<div>\n",
       "<style scoped>\n",
       "    .dataframe tbody tr th:only-of-type {\n",
       "        vertical-align: middle;\n",
       "    }\n",
       "\n",
       "    .dataframe tbody tr th {\n",
       "        vertical-align: top;\n",
       "    }\n",
       "\n",
       "    .dataframe thead th {\n",
       "        text-align: right;\n",
       "    }\n",
       "</style>\n",
       "<table border=\"1\" class=\"dataframe\">\n",
       "  <thead>\n",
       "    <tr style=\"text-align: right;\">\n",
       "      <th></th>\n",
       "      <th>gpu_x</th>\n",
       "      <th>gpu_y</th>\n",
       "      <th>gpu_z</th>\n",
       "      <th>stage</th>\n",
       "      <th>type</th>\n",
       "      <th>session</th>\n",
       "    </tr>\n",
       "  </thead>\n",
       "  <tbody>\n",
       "    <tr>\n",
       "      <th>0</th>\n",
       "      <td>0000.00000000</td>\n",
       "      <td>0000.00000000</td>\n",
       "      <td>-0000.7800000</td>\n",
       "      <td>0</td>\n",
       "      <td>2</td>\n",
       "      <td>1</td>\n",
       "    </tr>\n",
       "    <tr>\n",
       "      <th>1</th>\n",
       "      <td>0000.00000000</td>\n",
       "      <td>0000.00000000</td>\n",
       "      <td>-0000.7800000</td>\n",
       "      <td>0</td>\n",
       "      <td>2</td>\n",
       "      <td>1</td>\n",
       "    </tr>\n",
       "  </tbody>\n",
       "</table>\n",
       "</div>"
      ],
      "text/plain": [
       "           gpu_x           gpu_y           gpu_z stage type  session\n",
       "0  0000.00000000   0000.00000000   -0000.7800000     0    2        1\n",
       "1  0000.00000000   0000.00000000   -0000.7800000     0    2        1"
      ]
     },
     "execution_count": 9,
     "metadata": {},
     "output_type": "execute_result"
    }
   ],
   "source": [
    "df.head(2)"
   ]
  },
  {
   "cell_type": "code",
   "execution_count": 10,
   "metadata": {},
   "outputs": [
    {
     "data": {
      "text/html": [
       "<div>\n",
       "<style scoped>\n",
       "    .dataframe tbody tr th:only-of-type {\n",
       "        vertical-align: middle;\n",
       "    }\n",
       "\n",
       "    .dataframe tbody tr th {\n",
       "        vertical-align: top;\n",
       "    }\n",
       "\n",
       "    .dataframe thead th {\n",
       "        text-align: right;\n",
       "    }\n",
       "</style>\n",
       "<table border=\"1\" class=\"dataframe\">\n",
       "  <thead>\n",
       "    <tr style=\"text-align: right;\">\n",
       "      <th></th>\n",
       "      <th>gpu_x</th>\n",
       "      <th>gpu_y</th>\n",
       "      <th>gpu_z</th>\n",
       "      <th>stage</th>\n",
       "      <th>type</th>\n",
       "      <th>session</th>\n",
       "    </tr>\n",
       "  </thead>\n",
       "  <tbody>\n",
       "    <tr>\n",
       "      <th>59545</th>\n",
       "      <td>0008.87683100</td>\n",
       "      <td>-0028.98015000</td>\n",
       "      <td>-0086.8814700</td>\n",
       "      <td>4</td>\n",
       "      <td>2</td>\n",
       "      <td>2</td>\n",
       "    </tr>\n",
       "    <tr>\n",
       "      <th>59546</th>\n",
       "      <td>0008.87683100</td>\n",
       "      <td>-0028.98015000</td>\n",
       "      <td>-0086.8814700</td>\n",
       "      <td>4</td>\n",
       "      <td>2</td>\n",
       "      <td>2</td>\n",
       "    </tr>\n",
       "  </tbody>\n",
       "</table>\n",
       "</div>"
      ],
      "text/plain": [
       "               gpu_x            gpu_y           gpu_z stage type  session\n",
       "59545  0008.87683100   -0028.98015000   -0086.8814700     4    2        2\n",
       "59546  0008.87683100   -0028.98015000   -0086.8814700     4    2        2"
      ]
     },
     "execution_count": 10,
     "metadata": {},
     "output_type": "execute_result"
    }
   ],
   "source": [
    "df.tail(2)"
   ]
  },
  {
   "cell_type": "code",
   "execution_count": 11,
   "metadata": {},
   "outputs": [
    {
     "data": {
      "text/html": [
       "<div>\n",
       "<style scoped>\n",
       "    .dataframe tbody tr th:only-of-type {\n",
       "        vertical-align: middle;\n",
       "    }\n",
       "\n",
       "    .dataframe tbody tr th {\n",
       "        vertical-align: top;\n",
       "    }\n",
       "\n",
       "    .dataframe thead th {\n",
       "        text-align: right;\n",
       "    }\n",
       "</style>\n",
       "<table border=\"1\" class=\"dataframe\">\n",
       "  <thead>\n",
       "    <tr style=\"text-align: right;\">\n",
       "      <th></th>\n",
       "      <th>gpu_x</th>\n",
       "      <th>gpu_y</th>\n",
       "      <th>gpu_z</th>\n",
       "      <th>stage</th>\n",
       "      <th>type</th>\n",
       "      <th>session</th>\n",
       "    </tr>\n",
       "  </thead>\n",
       "  <tbody>\n",
       "    <tr>\n",
       "      <th>0</th>\n",
       "      <td>0000.00000000</td>\n",
       "      <td>0000.00000000</td>\n",
       "      <td>-0000.7800000</td>\n",
       "      <td>0</td>\n",
       "      <td>2</td>\n",
       "      <td>1</td>\n",
       "    </tr>\n",
       "    <tr>\n",
       "      <th>1</th>\n",
       "      <td>0000.00000000</td>\n",
       "      <td>0000.00000000</td>\n",
       "      <td>-0000.7800000</td>\n",
       "      <td>0</td>\n",
       "      <td>2</td>\n",
       "      <td>1</td>\n",
       "    </tr>\n",
       "  </tbody>\n",
       "</table>\n",
       "</div>"
      ],
      "text/plain": [
       "           gpu_x           gpu_y           gpu_z stage type  session\n",
       "0  0000.00000000   0000.00000000   -0000.7800000     0    2        1\n",
       "1  0000.00000000   0000.00000000   -0000.7800000     0    2        1"
      ]
     },
     "execution_count": 11,
     "metadata": {},
     "output_type": "execute_result"
    }
   ],
   "source": [
    "dfa.head(2)"
   ]
  },
  {
   "cell_type": "code",
   "execution_count": 12,
   "metadata": {},
   "outputs": [
    {
     "data": {
      "text/html": [
       "<div>\n",
       "<style scoped>\n",
       "    .dataframe tbody tr th:only-of-type {\n",
       "        vertical-align: middle;\n",
       "    }\n",
       "\n",
       "    .dataframe tbody tr th {\n",
       "        vertical-align: top;\n",
       "    }\n",
       "\n",
       "    .dataframe thead th {\n",
       "        text-align: right;\n",
       "    }\n",
       "</style>\n",
       "<table border=\"1\" class=\"dataframe\">\n",
       "  <thead>\n",
       "    <tr style=\"text-align: right;\">\n",
       "      <th></th>\n",
       "      <th>gpu_x</th>\n",
       "      <th>gpu_y</th>\n",
       "      <th>gpu_z</th>\n",
       "      <th>stage</th>\n",
       "      <th>type</th>\n",
       "      <th>session</th>\n",
       "    </tr>\n",
       "  </thead>\n",
       "  <tbody>\n",
       "    <tr>\n",
       "      <th>0</th>\n",
       "      <td>0000.00000000</td>\n",
       "      <td>0000.00000000</td>\n",
       "      <td>-0000.7800000</td>\n",
       "      <td>0</td>\n",
       "      <td>2</td>\n",
       "      <td>2</td>\n",
       "    </tr>\n",
       "    <tr>\n",
       "      <th>1</th>\n",
       "      <td>0000.00000000</td>\n",
       "      <td>0000.00000000</td>\n",
       "      <td>-0000.7800000</td>\n",
       "      <td>0</td>\n",
       "      <td>2</td>\n",
       "      <td>2</td>\n",
       "    </tr>\n",
       "  </tbody>\n",
       "</table>\n",
       "</div>"
      ],
      "text/plain": [
       "           gpu_x           gpu_y           gpu_z stage type  session\n",
       "0  0000.00000000   0000.00000000   -0000.7800000     0    2        2\n",
       "1  0000.00000000   0000.00000000   -0000.7800000     0    2        2"
      ]
     },
     "execution_count": 12,
     "metadata": {},
     "output_type": "execute_result"
    }
   ],
   "source": [
    "dfb.head(2)"
   ]
  },
  {
   "cell_type": "code",
   "execution_count": 13,
   "metadata": {},
   "outputs": [
    {
     "data": {
      "text/html": [
       "<div>\n",
       "<style scoped>\n",
       "    .dataframe tbody tr th:only-of-type {\n",
       "        vertical-align: middle;\n",
       "    }\n",
       "\n",
       "    .dataframe tbody tr th {\n",
       "        vertical-align: top;\n",
       "    }\n",
       "\n",
       "    .dataframe thead th {\n",
       "        text-align: right;\n",
       "    }\n",
       "</style>\n",
       "<table border=\"1\" class=\"dataframe\">\n",
       "  <thead>\n",
       "    <tr style=\"text-align: right;\">\n",
       "      <th></th>\n",
       "      <th>gpu_x</th>\n",
       "      <th>gpu_y</th>\n",
       "      <th>gpu_z</th>\n",
       "      <th>stage</th>\n",
       "      <th>type</th>\n",
       "      <th>session</th>\n",
       "    </tr>\n",
       "  </thead>\n",
       "  <tbody>\n",
       "    <tr>\n",
       "      <th>29728</th>\n",
       "      <td>-0000.93992540</td>\n",
       "      <td>0001.62335700</td>\n",
       "      <td>-0022.5387500</td>\n",
       "      <td>4</td>\n",
       "      <td>2</td>\n",
       "      <td>1</td>\n",
       "    </tr>\n",
       "    <tr>\n",
       "      <th>29729</th>\n",
       "      <td>-0000.93992540</td>\n",
       "      <td>0001.62335700</td>\n",
       "      <td>-0022.5387500</td>\n",
       "      <td>4</td>\n",
       "      <td>2</td>\n",
       "      <td>1</td>\n",
       "    </tr>\n",
       "  </tbody>\n",
       "</table>\n",
       "</div>"
      ],
      "text/plain": [
       "                gpu_x           gpu_y           gpu_z stage type  session\n",
       "29728  -0000.93992540   0001.62335700   -0022.5387500     4    2        1\n",
       "29729  -0000.93992540   0001.62335700   -0022.5387500     4    2        1"
      ]
     },
     "execution_count": 13,
     "metadata": {},
     "output_type": "execute_result"
    }
   ],
   "source": [
    "dfa.tail(2)"
   ]
  },
  {
   "cell_type": "code",
   "execution_count": 14,
   "metadata": {},
   "outputs": [
    {
     "data": {
      "text/html": [
       "<div>\n",
       "<style scoped>\n",
       "    .dataframe tbody tr th:only-of-type {\n",
       "        vertical-align: middle;\n",
       "    }\n",
       "\n",
       "    .dataframe tbody tr th {\n",
       "        vertical-align: top;\n",
       "    }\n",
       "\n",
       "    .dataframe thead th {\n",
       "        text-align: right;\n",
       "    }\n",
       "</style>\n",
       "<table border=\"1\" class=\"dataframe\">\n",
       "  <thead>\n",
       "    <tr style=\"text-align: right;\">\n",
       "      <th></th>\n",
       "      <th>gpu_x</th>\n",
       "      <th>gpu_y</th>\n",
       "      <th>gpu_z</th>\n",
       "      <th>stage</th>\n",
       "      <th>type</th>\n",
       "      <th>session</th>\n",
       "    </tr>\n",
       "  </thead>\n",
       "  <tbody>\n",
       "    <tr>\n",
       "      <th>29815</th>\n",
       "      <td>0008.87683100</td>\n",
       "      <td>-0028.98015000</td>\n",
       "      <td>-0086.8814700</td>\n",
       "      <td>4</td>\n",
       "      <td>2</td>\n",
       "      <td>2</td>\n",
       "    </tr>\n",
       "    <tr>\n",
       "      <th>29816</th>\n",
       "      <td>0008.87683100</td>\n",
       "      <td>-0028.98015000</td>\n",
       "      <td>-0086.8814700</td>\n",
       "      <td>4</td>\n",
       "      <td>2</td>\n",
       "      <td>2</td>\n",
       "    </tr>\n",
       "  </tbody>\n",
       "</table>\n",
       "</div>"
      ],
      "text/plain": [
       "               gpu_x            gpu_y           gpu_z stage type  session\n",
       "29815  0008.87683100   -0028.98015000   -0086.8814700     4    2        2\n",
       "29816  0008.87683100   -0028.98015000   -0086.8814700     4    2        2"
      ]
     },
     "execution_count": 14,
     "metadata": {},
     "output_type": "execute_result"
    }
   ],
   "source": [
    "dfb.tail(2)"
   ]
  },
  {
   "cell_type": "code",
   "execution_count": 15,
   "metadata": {},
   "outputs": [
    {
     "data": {
      "text/plain": [
       "(29730, 29817, 59547, unicode)"
      ]
     },
     "execution_count": 15,
     "metadata": {},
     "output_type": "execute_result"
    }
   ],
   "source": [
    "'''Check the length and data format'''\n",
    "len(dfa), len(dfb), len(df), type(df.gpu_x[0])"
   ]
  },
  {
   "cell_type": "markdown",
   "metadata": {},
   "source": [
    "## Data massage"
   ]
  },
  {
   "cell_type": "code",
   "execution_count": 16,
   "metadata": {
    "collapsed": true
   },
   "outputs": [],
   "source": [
    "'''Remove extra white space and cpnvert to float format'''\n",
    "cols = ['gpu_x', 'gpu_y', 'gpu_z', 'stage', 'type', 'session']\n",
    "df[cols] = df[cols].replace(' ','').astype(float)"
   ]
  },
  {
   "cell_type": "code",
   "execution_count": 17,
   "metadata": {
    "collapsed": true
   },
   "outputs": [],
   "source": [
    "'''Normed z value: inverse of (min-max scaling + .1)\n",
    ".1 added to avoid 0'''\n",
    "norm = lambda x: 1/(((x - x.min()) / (x.max()-x.min()))+.1)\n",
    "df['gpu_nz'] = df['gpu_z'].transform(norm)"
   ]
  },
  {
   "cell_type": "code",
   "execution_count": 18,
   "metadata": {},
   "outputs": [
    {
     "data": {
      "text/plain": [
       "(0.90909090909090906, 10.0)"
      ]
     },
     "execution_count": 18,
     "metadata": {},
     "output_type": "execute_result"
    }
   ],
   "source": [
    "# Check\n",
    "df['gpu_nz'].min(), df['gpu_nz'].max()"
   ]
  },
  {
   "cell_type": "markdown",
   "metadata": {},
   "source": [
    "## Figures"
   ]
  },
  {
   "cell_type": "code",
   "execution_count": 19,
   "metadata": {
    "collapsed": true
   },
   "outputs": [],
   "source": [
    "import seaborn as sns\n",
    "sns.set(style=\"white\", color_codes=True)\n",
    "\n",
    "import numpy as np\n",
    "import matplotlib.pyplot as plt\n",
    "%matplotlib inline"
   ]
  },
  {
   "cell_type": "code",
   "execution_count": 20,
   "metadata": {},
   "outputs": [
    {
     "data": {
      "image/png": "[encoded data removed]",
      "text/plain": [
       "<matplotlib.figure.Figure at 0x25519e80>"
      ]
     },
     "metadata": {},
     "output_type": "display_data"
    }
   ],
   "source": [
    "'''Just out of curiosity'''\n",
    "df.plot(subplots=True);"
   ]
  },
  {
   "cell_type": "code",
   "execution_count": 21,
   "metadata": {},
   "outputs": [
    {
     "data": {
      "image/png": "[encoded data removed]",
      "text/plain": [
       "<matplotlib.figure.Figure at 0x213363c8>"
      ]
     },
     "metadata": {},
     "output_type": "display_data"
    }
   ],
   "source": [
    "%matplotlib inline\n",
    "df.gpu_z.plot();"
   ]
  },
  {
   "cell_type": "code",
   "execution_count": 22,
   "metadata": {},
   "outputs": [
    {
     "data": {
      "image/png": "[encoded data removed]",
      "text/plain": [
       "<matplotlib.figure.Figure at 0x221b7550>"
      ]
     },
     "metadata": {},
     "output_type": "display_data"
    }
   ],
   "source": [
    "%matplotlib inline\n",
    "df[df.gpu_z>-25].gpu_z.reset_index(drop=True).plot();"
   ]
  },
  {
   "cell_type": "code",
   "execution_count": 23,
   "metadata": {},
   "outputs": [
    {
     "data": {
      "text/plain": [
       "(0.01926209548759803, 1147, 59547)"
      ]
     },
     "execution_count": 23,
     "metadata": {},
     "output_type": "execute_result"
    }
   ],
   "source": [
    "len(df[df.gpu_z<-25])/float(len(df)), len(df[df.gpu_z<-25]), len(df)"
   ]
  },
  {
   "cell_type": "code",
   "execution_count": 24,
   "metadata": {},
   "outputs": [
    {
     "name": "stdout",
     "output_type": "stream",
     "text": [
      "4\n"
     ]
    }
   ],
   "source": [
    "print pid"
   ]
  }
 ],
 "metadata": {
  "kernelspec": {
   "display_name": "Python 2",
   "language": "python",
   "name": "python2"
  },
  "language_info": {
   "codemirror_mode": {
    "name": "ipython",
    "version": 2
   },
   "file_extension": ".py",
   "mimetype": "text/x-python",
   "name": "python",
   "nbconvert_exporter": "python",
   "pygments_lexer": "ipython2",
   "version": "2.7.14"
  }
 },
 "nbformat": 4,
 "nbformat_minor": 2
}
